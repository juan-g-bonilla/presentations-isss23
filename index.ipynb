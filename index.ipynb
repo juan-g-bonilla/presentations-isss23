{
 "cells": [
  {
   "cell_type": "code",
   "execution_count": 5,
   "metadata": {},
   "outputs": [
    {
     "data": {
      "application/vnd.jupyter.widget-view+json": {
       "model_id": "ab2263dc2d5d44c09578effd5bff4f5b",
       "version_major": 2,
       "version_minor": 0
      },
      "text/plain": [
       "GridspecLayout(children=(Label(value='Sunlight Azimuth:', layout=Layout(grid_area='widget001')), FloatSlider(v…"
      ]
     },
     "metadata": {},
     "output_type": "display_data"
    },
    {
     "data": {
      "application/vnd.jupyter.widget-view+json": {
       "model_id": "db89dc0fd94b4914a842b70661834a49",
       "version_major": 2,
       "version_minor": 0
      },
      "text/plain": [
       "Output()"
      ]
     },
     "metadata": {},
     "output_type": "display_data"
    },
    {
     "data": {
      "application/vnd.jupyter.widget-view+json": {
       "model_id": "e1cb9afed53148a9900d4ef93059664e",
       "version_major": 2,
       "version_minor": 0
      },
      "text/plain": [
       "Tab(children=(Canvas(toolbar=Toolbar(toolitems=[('Home', 'Reset original view', 'home', 'home'), ('Back', 'Bac…"
      ]
     },
     "metadata": {},
     "output_type": "display_data"
    }
   ],
   "source": [
    "%matplotlib widget\n",
    "import numpy as np\n",
    "import matplotlib.pyplot as plt\n",
    "\n",
    "import gsm\n",
    "import utils\n",
    "\n",
    "plt.ioff()\n",
    "\n",
    "fig = plt.figure()\n",
    "ax = fig.add_subplot(projection='3d')\n",
    "ax.view_init(elev=12., azim=-63)\n",
    "\n",
    "fig2 = plt.figure()\n",
    "ax2 = fig2.add_subplot()\n",
    "\n",
    "ax.set_xlim(-0.6, 0.6, auto=False)\n",
    "ax.set_ylim(-0.6, 0.6, auto=False)\n",
    "ax.set_zlim(-0.9, -0.2, auto=False)\n",
    "ax.get_xaxis().set_ticklabels([])\n",
    "ax.get_yaxis().set_ticklabels([])\n",
    "ax.get_zaxis().set_ticklabels([])\n",
    "ax.set_aspect(\"equal\", \"box\")\n",
    "# ax.axis(\"off\")\n",
    "\n",
    "cached_sail_surface = None\n",
    "cached_sunlight_vector = None\n",
    "cached_force_vector = None\n",
    "cached_force_lines = None\n",
    "\n",
    "def update_sail(\n",
    "    sunlight_azimuth,\n",
    "    sunlight_elevation,\n",
    "    reflectivity,\n",
    "    specularity,\n",
    "    front_lambertian,\n",
    "    back_lambertian,\n",
    "    front_emissivity,\n",
    "    back_emissivity,\n",
    "    relative_billow,\n",
    "    relative_tip_displacement,\n",
    "):\n",
    "    global cached_sail_surface, cached_sunlight_vector, cached_force_vector, cached_force_lines\n",
    "\n",
    "    boom_half_length = 1\n",
    "    billow = relative_billow*boom_half_length\n",
    "    tip_displacement = relative_tip_displacement*boom_half_length\n",
    "\n",
    "    vecs = gsm.get_cached_square_sail_vectors(boom_half_length, billow, -tip_displacement, 20, True)\n",
    "    if vecs is None:\n",
    "        vecs = gsm.get_square_sail_vectors(boom_half_length, billow, -tip_displacement, 20, True)\n",
    "        if cached_sail_surface is not None:\n",
    "            cached_sail_surface.remove()\n",
    "        cached_sail_surface = utils.plot_sail(ax, vecs)\n",
    "\n",
    "    sunlight_elevation = np.deg2rad(sunlight_elevation)\n",
    "    sunlight_azimuth = np.deg2rad(sunlight_azimuth)\n",
    "    sunlight_direction = spher2cart(sunlight_elevation, sunlight_azimuth)\n",
    "\n",
    "    if cached_sunlight_vector is not None:\n",
    "        cached_sunlight_vector.remove()\n",
    "    cached_sunlight_vector = utils.plot_vector(ax, sunlight_direction, label=\"Sunlight\", color=utils.YELLOW)\n",
    "\n",
    "    J1_geo, J2_geo, J3_geo = gsm.get_geometrical_Js_from_square_sail_vectors(vecs)\n",
    "    J1, J2, J3 = gsm.apply_coefficients(\n",
    "        J1_geo,\n",
    "        J2_geo,\n",
    "        J3_geo,\n",
    "        reflectivity,\n",
    "        specularity,\n",
    "        front_lambertian,\n",
    "        back_lambertian,\n",
    "        front_emissivity,\n",
    "        back_emissivity,\n",
    "    )\n",
    "    force = -gsm.get_force(J1, J2, J3, sunlight_direction)/4\n",
    "\n",
    "    if cached_force_vector is not None:\n",
    "        cached_force_vector.remove()\n",
    "    cached_force_vector = utils.plot_vector(ax, force, label=\"Total Force\", color=utils.BLACK)\n",
    "\n",
    "    ax.legend(loc=\"upper right\")\n",
    "\n",
    "    elevation = np.linspace(0, np.pi/2, 20)\n",
    "    force_mag = np.zeros_like(elevation)\n",
    "    force_normal_mag = np.zeros_like(elevation)\n",
    "    force_tangent_mag = np.zeros_like(elevation)\n",
    "    for i, sunlight_elevation_i in enumerate(elevation):\n",
    "        sunlight_direction = spher2cart(sunlight_elevation_i, 0)\n",
    "        force = -gsm.get_force(J1, J2, J3, sunlight_direction)/4\n",
    "        force_mag[i] = np.linalg.norm(force)\n",
    "        force_normal_vec = np.dot( force, sunlight_direction ) * sunlight_direction\n",
    "        force_tangent_vec = force - force_normal_vec\n",
    "        force_normal_mag[i] = np.linalg.norm(force_normal_vec)\n",
    "        force_tangent_mag[i] = np.linalg.norm(force_tangent_vec)\n",
    "\n",
    "    cached_force_lines = utils.plot_force_profile(ax2, elevation, force_mag, force_normal_mag, force_tangent_mag, sunlight_elevation, cached_force_lines)\n",
    "\n",
    "    fig.canvas.draw()\n",
    "    fig2.canvas.draw()\n",
    "    fig.canvas.flush_events()\n",
    "    fig2.canvas.flush_events()\n",
    "\n",
    "def spher2cart(elevation, azimuth):\n",
    "    elevation = np.pi - elevation\n",
    "    x = np.sin(elevation) * np.cos(azimuth)\n",
    "    y = np.sin(elevation) * np.sin(azimuth)\n",
    "    z = np.cos(elevation)\n",
    "    return np.array([x, y, z])\n",
    "\n",
    "utils.setup_sliders(update_sail)\n",
    "\n",
    "import ipywidgets as widgets\n",
    "# display( widgets.HBox((fig.canvas, fig2.canvas)) )\n",
    "\n",
    "tab = widgets.Tab()\n",
    "tab.children = (fig.canvas, fig2.canvas, widgets.HBox((fig.canvas, fig2.canvas)))\n",
    "tab.titles = (\"3D Sail Plot\", \"Force Plot\", \"Both\")\n",
    "display(tab)\n",
    "\n"
   ]
  },
  {
   "cell_type": "code",
   "execution_count": null,
   "metadata": {},
   "outputs": [],
   "source": []
  }
 ],
 "metadata": {
  "kernelspec": {
   "display_name": ".venv",
   "language": "python",
   "name": "python3"
  },
  "language_info": {
   "codemirror_mode": {
    "name": "ipython",
    "version": 3
   },
   "file_extension": ".py",
   "mimetype": "text/x-python",
   "name": "python",
   "nbconvert_exporter": "python",
   "pygments_lexer": "ipython3",
   "version": "3.11.0"
  },
  "orig_nbformat": 4
 },
 "nbformat": 4,
 "nbformat_minor": 2
}
