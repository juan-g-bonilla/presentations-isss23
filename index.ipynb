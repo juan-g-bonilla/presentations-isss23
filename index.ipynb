{
 "cells": [
  {
   "cell_type": "code",
   "execution_count": 24,
   "metadata": {},
   "outputs": [
    {
     "data": {
      "application/vnd.jupyter.widget-view+json": {
       "model_id": "bf2d27147c9944319f0c261975dd34ba",
       "version_major": 2,
       "version_minor": 0
      },
      "text/plain": [
       "GridspecLayout(children=(Label(value='Sunlight Azimuth:', layout=Layout(grid_area='widget001')), FloatSlider(v…"
      ]
     },
     "metadata": {},
     "output_type": "display_data"
    },
    {
     "data": {
      "application/vnd.jupyter.widget-view+json": {
       "model_id": "99368541920a422f9ac2f619ac6c0ffe",
       "version_major": 2,
       "version_minor": 0
      },
      "text/plain": [
       "Output()"
      ]
     },
     "metadata": {},
     "output_type": "display_data"
    }
   ],
   "source": [
    "import numpy as np\n",
    "import matplotlib.pyplot as plt\n",
    "\n",
    "import gsm\n",
    "import utils\n",
    "\n",
    "def update_sail(\n",
    "    sunlight_azimuth,\n",
    "    sunlight_elevation,\n",
    "    reflectivity,\n",
    "    specularity,\n",
    "    front_lambertian,\n",
    "    back_lambertian,\n",
    "    front_emissivity,\n",
    "    back_emissivity,\n",
    "    relative_billow,\n",
    "    relative_tip_displacement,\n",
    "):\n",
    "    fig = plt.figure()\n",
    "    ax = fig.add_subplot(1, 2, 1, projection='3d')\n",
    "    ax2 = fig.add_subplot(1, 2, 2)\n",
    "    ax.view_init(elev=12., azim=-63)\n",
    "\n",
    "    boom_half_length = 1\n",
    "    billow = relative_billow*boom_half_length\n",
    "    tip_displacement = relative_tip_displacement*boom_half_length\n",
    "\n",
    "    vecs = gsm.get_square_sail_vectors(boom_half_length, billow, -tip_displacement, 20, True)\n",
    "\n",
    "    utils.plot_sail(ax, vecs)\n",
    "\n",
    "    sunlight_elevation = np.deg2rad(sunlight_elevation)\n",
    "    sunlight_azimuth = np.deg2rad(sunlight_azimuth)\n",
    "    sunlight_direction = spher2cart(sunlight_elevation, sunlight_azimuth)\n",
    "\n",
    "    utils.plot_vector(ax, sunlight_direction, label=\"Sunlight\", color=utils.YELLOW)\n",
    "\n",
    "    J1_geo, J2_geo, J3_geo = gsm.get_geometrical_Js_from_square_sail_vectors(vecs)\n",
    "    J1, J2, J3 = gsm.apply_coefficients(\n",
    "        J1_geo,\n",
    "        J2_geo,\n",
    "        J3_geo,\n",
    "        reflectivity,\n",
    "        specularity,\n",
    "        front_lambertian,\n",
    "        back_lambertian,\n",
    "        front_emissivity,\n",
    "        back_emissivity,\n",
    "    )\n",
    "    force = -gsm.get_force(J1, J2, J3, sunlight_direction)/4\n",
    "    utils.plot_vector(ax, force, label=\"Total Force\", color=utils.BLACK)\n",
    "\n",
    "    ax.legend(loc=\"upper right\")\n",
    "\n",
    "    elevation = np.linspace(0, np.pi/2, 20)\n",
    "    force_mag = np.zeros_like(elevation)\n",
    "    force_normal_mag = np.zeros_like(elevation)\n",
    "    force_tangent_mag = np.zeros_like(elevation)\n",
    "    for i, sunlight_elevation_i in enumerate(elevation):\n",
    "        sunlight_direction = spher2cart(sunlight_elevation_i, 0)\n",
    "        force = -gsm.get_force(J1, J2, J3, sunlight_direction)/4\n",
    "        force_mag[i] = np.linalg.norm(force)\n",
    "        force_normal_vec = np.dot( force, sunlight_direction ) * sunlight_direction\n",
    "        force_tangent_vec = force - force_normal_vec\n",
    "        force_normal_mag[i] = np.linalg.norm(force_normal_vec)\n",
    "        force_tangent_mag[i] = np.linalg.norm(force_tangent_vec)\n",
    "\n",
    "    utils.plot_force_profile(ax2, elevation, force_mag, force_normal_mag, force_tangent_mag, sunlight_elevation)\n",
    "\n",
    "    fig.tight_layout()\n",
    "\n",
    "def spher2cart(elevation, azimuth):\n",
    "    elevation = np.pi - elevation\n",
    "    x = np.sin(elevation) * np.cos(azimuth)\n",
    "    y = np.sin(elevation) * np.sin(azimuth)\n",
    "    z = np.cos(elevation)\n",
    "    return np.array([x, y, z])\n",
    "\n",
    "utils.setup_widgets(update_sail)\n",
    "\n",
    "\n"
   ]
  }
 ],
 "metadata": {
  "kernelspec": {
   "display_name": ".venv",
   "language": "python",
   "name": "python3"
  },
  "language_info": {
   "codemirror_mode": {
    "name": "ipython",
    "version": 3
   },
   "file_extension": ".py",
   "mimetype": "text/x-python",
   "name": "python",
   "nbconvert_exporter": "python",
   "pygments_lexer": "ipython3",
   "version": "3.11.0"
  },
  "orig_nbformat": 4
 },
 "nbformat": 4,
 "nbformat_minor": 2
}
